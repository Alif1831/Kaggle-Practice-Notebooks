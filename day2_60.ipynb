{
 "cells": [
  {
   "cell_type": "code",
   "execution_count": 1,
   "id": "099ff20c",
   "metadata": {},
   "outputs": [
    {
     "data": {
      "text/plain": [
       "'data science'"
      ]
     },
     "execution_count": 1,
     "metadata": {},
     "output_type": "execute_result"
    }
   ],
   "source": [
    "'data science'"
   ]
  },
  {
   "cell_type": "code",
   "execution_count": 1,
   "id": "3e446243",
   "metadata": {},
   "outputs": [
    {
     "name": "stdout",
     "output_type": "stream",
     "text": [
      "Hello World, Welcome to 60 days of python\n"
     ]
    }
   ],
   "source": [
    "print('Hello World, Welcome to 60 days of python')"
   ]
  },
  {
   "cell_type": "code",
   "execution_count": 5,
   "id": "a4e3f995",
   "metadata": {},
   "outputs": [
    {
     "name": "stdout",
     "output_type": "stream",
     "text": [
      "Hello World\n",
      "My sentence is Hello World\n"
     ]
    }
   ],
   "source": [
    "var= 'Hello World'\n",
    "print(var)\n",
    "\n",
    "print('My sentence is '+var)"
   ]
  },
  {
   "cell_type": "code",
   "execution_count": 6,
   "id": "778f2963",
   "metadata": {},
   "outputs": [
    {
     "data": {
      "text/plain": [
       "2045195808688"
      ]
     },
     "execution_count": 6,
     "metadata": {},
     "output_type": "execute_result"
    }
   ],
   "source": [
    "id(var)"
   ]
  },
  {
   "cell_type": "code",
   "execution_count": 7,
   "id": "0e63b70c",
   "metadata": {},
   "outputs": [
    {
     "data": {
      "text/plain": [
       "60"
      ]
     },
     "execution_count": 7,
     "metadata": {},
     "output_type": "execute_result"
    }
   ],
   "source": [
    "import sys\n",
    "sys.getsizeof(var)"
   ]
  },
  {
   "cell_type": "code",
   "execution_count": 8,
   "id": "3fbb4938",
   "metadata": {},
   "outputs": [],
   "source": [
    "x=100"
   ]
  },
  {
   "cell_type": "code",
   "execution_count": 9,
   "id": "87b7c83b",
   "metadata": {},
   "outputs": [
    {
     "data": {
      "text/plain": [
       "100"
      ]
     },
     "execution_count": 9,
     "metadata": {},
     "output_type": "execute_result"
    }
   ],
   "source": [
    "x"
   ]
  },
  {
   "cell_type": "code",
   "execution_count": 1,
   "id": "ed36b1cb",
   "metadata": {},
   "outputs": [
    {
     "data": {
      "text/plain": [
       "'shakil'"
      ]
     },
     "execution_count": 1,
     "metadata": {},
     "output_type": "execute_result"
    }
   ],
   "source": [
    "x='shakil'\n",
    "x"
   ]
  },
  {
   "cell_type": "code",
   "execution_count": 5,
   "id": "d28ac9df",
   "metadata": {},
   "outputs": [
    {
     "name": "stdout",
     "output_type": "stream",
     "text": [
      "My Num is :  500\n",
      "My Num is :  1000\n"
     ]
    }
   ],
   "source": [
    "x=1000\n",
    "def func1():\n",
    "    x=500\n",
    "    print('My Num is : ',x)\n",
    "func1()\n",
    "\n",
    "print('My Num is : ',x)  \n",
    "    "
   ]
  },
  {
   "cell_type": "code",
   "execution_count": 6,
   "id": "648957b5",
   "metadata": {},
   "outputs": [
    {
     "data": {
      "text/plain": [
       "'data science is not fun'"
      ]
     },
     "execution_count": 6,
     "metadata": {},
     "output_type": "execute_result"
    }
   ],
   "source": [
    "data = 'data science is not fun'\n",
    "data"
   ]
  },
  {
   "cell_type": "code",
   "execution_count": null,
   "id": "6d951b15",
   "metadata": {},
   "outputs": [],
   "source": [
    "type(data)"
   ]
  },
  {
   "cell_type": "code",
   "execution_count": 2,
   "id": "14d3ad5b",
   "metadata": {},
   "outputs": [
    {
     "name": "stdout",
     "output_type": "stream",
     "text": [
      "Enter your number: 55\n"
     ]
    }
   ],
   "source": [
    "m=float(input('Enter your number: '))"
   ]
  },
  {
   "cell_type": "code",
   "execution_count": 3,
   "id": "4b0320df",
   "metadata": {},
   "outputs": [
    {
     "name": "stdout",
     "output_type": "stream",
     "text": [
      "Enter your number: 66\n"
     ]
    }
   ],
   "source": [
    "n=float(input('Enter your number: '))"
   ]
  },
  {
   "cell_type": "code",
   "execution_count": 4,
   "id": "a7cd958a",
   "metadata": {},
   "outputs": [
    {
     "data": {
      "text/plain": [
       "121.0"
      ]
     },
     "execution_count": 4,
     "metadata": {},
     "output_type": "execute_result"
    }
   ],
   "source": [
    "m+n"
   ]
  },
  {
   "cell_type": "code",
   "execution_count": 5,
   "id": "40a3586a",
   "metadata": {},
   "outputs": [],
   "source": [
    "data='60 days of python'"
   ]
  },
  {
   "cell_type": "code",
   "execution_count": 6,
   "id": "d84ba03c",
   "metadata": {},
   "outputs": [
    {
     "data": {
      "text/plain": [
       "str"
      ]
     },
     "execution_count": 6,
     "metadata": {},
     "output_type": "execute_result"
    }
   ],
   "source": [
    "type(data)"
   ]
  },
  {
   "cell_type": "code",
   "execution_count": 7,
   "id": "d5bc18d6",
   "metadata": {},
   "outputs": [
    {
     "data": {
      "text/plain": [
       "17"
      ]
     },
     "execution_count": 7,
     "metadata": {},
     "output_type": "execute_result"
    }
   ],
   "source": [
    "len(data)"
   ]
  },
  {
   "cell_type": "code",
   "execution_count": 9,
   "id": "ede9a462",
   "metadata": {},
   "outputs": [
    {
     "data": {
      "text/plain": [
       "66"
      ]
     },
     "execution_count": 9,
     "metadata": {},
     "output_type": "execute_result"
    }
   ],
   "source": [
    "import sys\n",
    "sys.getsizeof(data)"
   ]
  },
  {
   "cell_type": "code",
   "execution_count": 10,
   "id": "881037b7",
   "metadata": {},
   "outputs": [
    {
     "data": {
      "text/plain": [
       "1"
      ]
     },
     "execution_count": 10,
     "metadata": {},
     "output_type": "execute_result"
    }
   ],
   "source": [
    "data.count('python')"
   ]
  },
  {
   "cell_type": "code",
   "execution_count": 11,
   "id": "9f888562",
   "metadata": {},
   "outputs": [],
   "source": [
    "data='60 days of python'"
   ]
  },
  {
   "cell_type": "code",
   "execution_count": 12,
   "id": "ebd15f47",
   "metadata": {},
   "outputs": [
    {
     "data": {
      "text/plain": [
       "8"
      ]
     },
     "execution_count": 12,
     "metadata": {},
     "output_type": "execute_result"
    }
   ],
   "source": [
    "data.find('of')"
   ]
  },
  {
   "cell_type": "code",
   "execution_count": 14,
   "id": "b303ac4f",
   "metadata": {},
   "outputs": [
    {
     "data": {
      "text/plain": [
       "12"
      ]
     },
     "execution_count": 14,
     "metadata": {},
     "output_type": "execute_result"
    }
   ],
   "source": [
    "data.find('y',6,15)"
   ]
  },
  {
   "cell_type": "code",
   "execution_count": 15,
   "id": "2ea32a75",
   "metadata": {},
   "outputs": [
    {
     "data": {
      "text/plain": [
       "'60 days of python'"
      ]
     },
     "execution_count": 15,
     "metadata": {},
     "output_type": "execute_result"
    }
   ],
   "source": [
    "data.lower()"
   ]
  },
  {
   "cell_type": "code",
   "execution_count": 16,
   "id": "f0e80953",
   "metadata": {},
   "outputs": [
    {
     "data": {
      "text/plain": [
       "'60 DAYS OF PYTHON'"
      ]
     },
     "execution_count": 16,
     "metadata": {},
     "output_type": "execute_result"
    }
   ],
   "source": [
    "data.upper()"
   ]
  },
  {
   "cell_type": "code",
   "execution_count": 17,
   "id": "e4e25ff2",
   "metadata": {},
   "outputs": [
    {
     "data": {
      "text/plain": [
       "'60 days of python'"
      ]
     },
     "execution_count": 17,
     "metadata": {},
     "output_type": "execute_result"
    }
   ],
   "source": [
    "data.casefold()"
   ]
  },
  {
   "cell_type": "code",
   "execution_count": 19,
   "id": "afe88b99",
   "metadata": {},
   "outputs": [
    {
     "data": {
      "text/plain": [
       "'Sata slkfdhs'"
      ]
     },
     "execution_count": 19,
     "metadata": {},
     "output_type": "execute_result"
    }
   ],
   "source": [
    "x='sata slkfdhs'\n",
    "x.capitalize()"
   ]
  },
  {
   "cell_type": "code",
   "execution_count": 20,
   "id": "57c8293c",
   "metadata": {},
   "outputs": [
    {
     "data": {
      "text/plain": [
       "'SATA SLKFDHS'"
      ]
     },
     "execution_count": 20,
     "metadata": {},
     "output_type": "execute_result"
    }
   ],
   "source": [
    "x.swapcase()"
   ]
  },
  {
   "cell_type": "code",
   "execution_count": 21,
   "id": "d078b14c",
   "metadata": {},
   "outputs": [
    {
     "data": {
      "text/plain": [
       "'Sata Slkfdhs'"
      ]
     },
     "execution_count": 21,
     "metadata": {},
     "output_type": "execute_result"
    }
   ],
   "source": [
    "x.title()"
   ]
  },
  {
   "cell_type": "code",
   "execution_count": 22,
   "id": "bd444556",
   "metadata": {},
   "outputs": [
    {
     "data": {
      "text/plain": [
       "True"
      ]
     },
     "execution_count": 22,
     "metadata": {},
     "output_type": "execute_result"
    }
   ],
   "source": [
    "x.islower()"
   ]
  },
  {
   "cell_type": "code",
   "execution_count": 23,
   "id": "624e39d6",
   "metadata": {},
   "outputs": [
    {
     "data": {
      "text/plain": [
       "['sata', 'slkfdhs']"
      ]
     },
     "execution_count": 23,
     "metadata": {},
     "output_type": "execute_result"
    }
   ],
   "source": [
    "x.split()"
   ]
  },
  {
   "cell_type": "code",
   "execution_count": 24,
   "id": "de97cd43",
   "metadata": {},
   "outputs": [
    {
     "data": {
      "text/plain": [
       "'slkfdhs'"
      ]
     },
     "execution_count": 24,
     "metadata": {},
     "output_type": "execute_result"
    }
   ],
   "source": [
    "x.split()[1]"
   ]
  },
  {
   "cell_type": "code",
   "execution_count": 26,
   "id": "5b38ec4b",
   "metadata": {},
   "outputs": [
    {
     "data": {
      "text/plain": [
       "'                   sata slkfdhs                   '"
      ]
     },
     "execution_count": 26,
     "metadata": {},
     "output_type": "execute_result"
    }
   ],
   "source": [
    "x.center(50)"
   ]
  },
  {
   "cell_type": "code",
   "execution_count": 27,
   "id": "60959781",
   "metadata": {},
   "outputs": [
    {
     "data": {
      "text/plain": [
       "'ai slkfdhs'"
      ]
     },
     "execution_count": 27,
     "metadata": {},
     "output_type": "execute_result"
    }
   ],
   "source": [
    "x.replace('sata','ai')"
   ]
  },
  {
   "cell_type": "code",
   "execution_count": 30,
   "id": "f3c70523",
   "metadata": {},
   "outputs": [
    {
     "name": "stdout",
     "output_type": "stream",
     "text": [
      "I have 1000 taka\n"
     ]
    }
   ],
   "source": [
    "x=10\n",
    "y=100\n",
    "z=x*y\n",
    "print('I have',z,'taka')"
   ]
  },
  {
   "cell_type": "code",
   "execution_count": 31,
   "id": "af5d52ae",
   "metadata": {},
   "outputs": [],
   "source": [
    "#numeric data\n",
    "\n",
    "x=10\n",
    "y=10.5\n",
    "z=10+5j"
   ]
  },
  {
   "cell_type": "code",
   "execution_count": 32,
   "id": "84742dbd",
   "metadata": {},
   "outputs": [
    {
     "data": {
      "text/plain": [
       "int"
      ]
     },
     "execution_count": 32,
     "metadata": {},
     "output_type": "execute_result"
    }
   ],
   "source": [
    "type(x)"
   ]
  },
  {
   "cell_type": "code",
   "execution_count": 33,
   "id": "81e58191",
   "metadata": {},
   "outputs": [
    {
     "data": {
      "text/plain": [
       "float"
      ]
     },
     "execution_count": 33,
     "metadata": {},
     "output_type": "execute_result"
    }
   ],
   "source": [
    "type(y)"
   ]
  },
  {
   "cell_type": "code",
   "execution_count": 34,
   "id": "edacc1bd",
   "metadata": {},
   "outputs": [
    {
     "data": {
      "text/plain": [
       "complex"
      ]
     },
     "execution_count": 34,
     "metadata": {},
     "output_type": "execute_result"
    }
   ],
   "source": [
    "type(z)"
   ]
  },
  {
   "cell_type": "code",
   "execution_count": 35,
   "id": "aff0a89c",
   "metadata": {},
   "outputs": [
    {
     "data": {
      "text/plain": [
       "True"
      ]
     },
     "execution_count": 35,
     "metadata": {},
     "output_type": "execute_result"
    }
   ],
   "source": [
    "isinstance(z,complex)"
   ]
  },
  {
   "cell_type": "code",
   "execution_count": 36,
   "id": "364d1d21",
   "metadata": {},
   "outputs": [
    {
     "data": {
      "text/plain": [
       "False"
      ]
     },
     "execution_count": 36,
     "metadata": {},
     "output_type": "execute_result"
    }
   ],
   "source": [
    "isinstance(10,float)"
   ]
  },
  {
   "cell_type": "code",
   "execution_count": 44,
   "id": "bb9729e4",
   "metadata": {},
   "outputs": [],
   "source": [
    "n=float(x)"
   ]
  },
  {
   "cell_type": "code",
   "execution_count": 45,
   "id": "a568ba95",
   "metadata": {},
   "outputs": [
    {
     "data": {
      "text/plain": [
       "10"
      ]
     },
     "execution_count": 45,
     "metadata": {},
     "output_type": "execute_result"
    }
   ],
   "source": [
    "x"
   ]
  },
  {
   "cell_type": "code",
   "execution_count": 46,
   "id": "789970bf",
   "metadata": {},
   "outputs": [
    {
     "data": {
      "text/plain": [
       "int"
      ]
     },
     "execution_count": 46,
     "metadata": {},
     "output_type": "execute_result"
    }
   ],
   "source": [
    "type(x)"
   ]
  },
  {
   "cell_type": "code",
   "execution_count": 47,
   "id": "323653e7",
   "metadata": {},
   "outputs": [],
   "source": [
    "#int to complex"
   ]
  },
  {
   "cell_type": "code",
   "execution_count": 48,
   "id": "ec368df5",
   "metadata": {},
   "outputs": [],
   "source": [
    "n=complex(y)"
   ]
  },
  {
   "cell_type": "code",
   "execution_count": 49,
   "id": "0a6f1ca7",
   "metadata": {},
   "outputs": [
    {
     "data": {
      "text/plain": [
       "10.5"
      ]
     },
     "execution_count": 49,
     "metadata": {},
     "output_type": "execute_result"
    }
   ],
   "source": [
    "y"
   ]
  },
  {
   "cell_type": "code",
   "execution_count": 50,
   "id": "6e5fa515",
   "metadata": {},
   "outputs": [
    {
     "data": {
      "text/plain": [
       "float"
      ]
     },
     "execution_count": 50,
     "metadata": {},
     "output_type": "execute_result"
    }
   ],
   "source": [
    "type(y)"
   ]
  },
  {
   "cell_type": "code",
   "execution_count": 51,
   "id": "a6491745",
   "metadata": {},
   "outputs": [],
   "source": [
    "x=True\n",
    "y=False"
   ]
  },
  {
   "cell_type": "code",
   "execution_count": 52,
   "id": "cea500bc",
   "metadata": {},
   "outputs": [
    {
     "data": {
      "text/plain": [
       "True"
      ]
     },
     "execution_count": 52,
     "metadata": {},
     "output_type": "execute_result"
    }
   ],
   "source": [
    "x"
   ]
  },
  {
   "cell_type": "code",
   "execution_count": 53,
   "id": "0c7f4df7",
   "metadata": {},
   "outputs": [
    {
     "data": {
      "text/plain": [
       "False"
      ]
     },
     "execution_count": 53,
     "metadata": {},
     "output_type": "execute_result"
    }
   ],
   "source": [
    "y"
   ]
  },
  {
   "cell_type": "code",
   "execution_count": 54,
   "id": "7d11fc8f",
   "metadata": {},
   "outputs": [],
   "source": [
    "#list"
   ]
  },
  {
   "cell_type": "code",
   "execution_count": 55,
   "id": "f3afd1cf",
   "metadata": {},
   "outputs": [],
   "source": [
    "l=[1,2,3,4,True,[1,2],(1,2,3),'data']"
   ]
  },
  {
   "cell_type": "code",
   "execution_count": 56,
   "id": "0b97aaa4",
   "metadata": {},
   "outputs": [
    {
     "data": {
      "text/plain": [
       "[1, 2, 3, 4, True, [1, 2], (1, 2, 3), 'data']"
      ]
     },
     "execution_count": 56,
     "metadata": {},
     "output_type": "execute_result"
    }
   ],
   "source": [
    "l"
   ]
  },
  {
   "cell_type": "code",
   "execution_count": 57,
   "id": "2754db64",
   "metadata": {},
   "outputs": [
    {
     "data": {
      "text/plain": [
       "1"
      ]
     },
     "execution_count": 57,
     "metadata": {},
     "output_type": "execute_result"
    }
   ],
   "source": [
    "l[0]"
   ]
  },
  {
   "cell_type": "code",
   "execution_count": 58,
   "id": "9be5de6f",
   "metadata": {},
   "outputs": [
    {
     "data": {
      "text/plain": [
       "'data'"
      ]
     },
     "execution_count": 58,
     "metadata": {},
     "output_type": "execute_result"
    }
   ],
   "source": [
    "l[-1]"
   ]
  },
  {
   "cell_type": "code",
   "execution_count": 59,
   "id": "6391bdf5",
   "metadata": {},
   "outputs": [
    {
     "data": {
      "text/plain": [
       "(1, 2, 3)"
      ]
     },
     "execution_count": 59,
     "metadata": {},
     "output_type": "execute_result"
    }
   ],
   "source": [
    "l[-2]"
   ]
  },
  {
   "cell_type": "code",
   "execution_count": 60,
   "id": "c0d1140b",
   "metadata": {},
   "outputs": [
    {
     "data": {
      "text/plain": [
       "2"
      ]
     },
     "execution_count": 60,
     "metadata": {},
     "output_type": "execute_result"
    }
   ],
   "source": [
    "l[-2][1]"
   ]
  },
  {
   "cell_type": "code",
   "execution_count": 61,
   "id": "a69a375b",
   "metadata": {},
   "outputs": [
    {
     "data": {
      "text/plain": [
       "list"
      ]
     },
     "execution_count": 61,
     "metadata": {},
     "output_type": "execute_result"
    }
   ],
   "source": [
    "type(l)"
   ]
  },
  {
   "cell_type": "code",
   "execution_count": 62,
   "id": "930d4c85",
   "metadata": {},
   "outputs": [
    {
     "ename": "NameError",
     "evalue": "name 'Range' is not defined",
     "output_type": "error",
     "traceback": [
      "\u001b[1;31m---------------------------------------------------------------------------\u001b[0m",
      "\u001b[1;31mNameError\u001b[0m                                 Traceback (most recent call last)",
      "\u001b[1;32m~\\AppData\\Local\\Temp/ipykernel_15920/2901225633.py\u001b[0m in \u001b[0;36m<module>\u001b[1;34m\u001b[0m\n\u001b[1;32m----> 1\u001b[1;33m \u001b[0mx\u001b[0m\u001b[1;33m=\u001b[0m\u001b[0mRange\u001b[0m\u001b[1;33m(\u001b[0m\u001b[1;36m10\u001b[0m\u001b[1;33m)\u001b[0m\u001b[1;33m\u001b[0m\u001b[1;33m\u001b[0m\u001b[0m\n\u001b[0m",
      "\u001b[1;31mNameError\u001b[0m: name 'Range' is not defined"
     ]
    }
   ],
   "source": [
    "x=Range(10)"
   ]
  },
  {
   "cell_type": "code",
   "execution_count": 63,
   "id": "7f628127",
   "metadata": {},
   "outputs": [],
   "source": [
    "x=range(10)"
   ]
  },
  {
   "cell_type": "code",
   "execution_count": 64,
   "id": "dadbc937",
   "metadata": {},
   "outputs": [
    {
     "name": "stdout",
     "output_type": "stream",
     "text": [
      "0\n",
      "1\n",
      "2\n",
      "3\n",
      "4\n",
      "5\n",
      "6\n",
      "7\n",
      "8\n",
      "9\n"
     ]
    }
   ],
   "source": [
    "for i in x:\n",
    "    print(i)"
   ]
  },
  {
   "cell_type": "code",
   "execution_count": 65,
   "id": "37057f0d",
   "metadata": {},
   "outputs": [],
   "source": [
    "import array as ar"
   ]
  },
  {
   "cell_type": "code",
   "execution_count": 69,
   "id": "27d3d74b",
   "metadata": {},
   "outputs": [],
   "source": [
    "a=ar.array('f',[1.5,2,3,4])"
   ]
  },
  {
   "cell_type": "code",
   "execution_count": 70,
   "id": "1711fd41",
   "metadata": {},
   "outputs": [
    {
     "data": {
      "text/plain": [
       "array.array"
      ]
     },
     "execution_count": 70,
     "metadata": {},
     "output_type": "execute_result"
    }
   ],
   "source": [
    "type(a)"
   ]
  },
  {
   "cell_type": "code",
   "execution_count": 71,
   "id": "e25821f1",
   "metadata": {},
   "outputs": [],
   "source": [
    "s={1,2,3,4,5}"
   ]
  },
  {
   "cell_type": "code",
   "execution_count": 72,
   "id": "567be5da",
   "metadata": {},
   "outputs": [
    {
     "data": {
      "text/plain": [
       "{1, 2, 3, 4, 5}"
      ]
     },
     "execution_count": 72,
     "metadata": {},
     "output_type": "execute_result"
    }
   ],
   "source": [
    "s"
   ]
  },
  {
   "cell_type": "code",
   "execution_count": 73,
   "id": "8985811c",
   "metadata": {},
   "outputs": [
    {
     "data": {
      "text/plain": [
       "set"
      ]
     },
     "execution_count": 73,
     "metadata": {},
     "output_type": "execute_result"
    }
   ],
   "source": [
    "type(s)"
   ]
  },
  {
   "cell_type": "code",
   "execution_count": 77,
   "id": "3c7d9644",
   "metadata": {},
   "outputs": [],
   "source": [
    "dic={\n",
    "     'varsity':'BUET',\n",
    "    'Dept':'ME'\n",
    "}"
   ]
  },
  {
   "cell_type": "code",
   "execution_count": 79,
   "id": "8362e66f",
   "metadata": {},
   "outputs": [
    {
     "data": {
      "text/plain": [
       "dict_keys(['varsity', 'Dept'])"
      ]
     },
     "execution_count": 79,
     "metadata": {},
     "output_type": "execute_result"
    }
   ],
   "source": [
    "dic.keys()"
   ]
  },
  {
   "cell_type": "code",
   "execution_count": 80,
   "id": "896039a4",
   "metadata": {},
   "outputs": [
    {
     "data": {
      "text/plain": [
       "dict_values(['BUET', 'ME'])"
      ]
     },
     "execution_count": 80,
     "metadata": {},
     "output_type": "execute_result"
    }
   ],
   "source": [
    "dic.values()"
   ]
  },
  {
   "cell_type": "code",
   "execution_count": 81,
   "id": "8f192c1a",
   "metadata": {},
   "outputs": [],
   "source": [
    "import pandas as pd"
   ]
  },
  {
   "cell_type": "code",
   "execution_count": 82,
   "id": "a601c46e",
   "metadata": {},
   "outputs": [
    {
     "ename": "NameError",
     "evalue": "name 'read_csv' is not defined",
     "output_type": "error",
     "traceback": [
      "\u001b[1;31m---------------------------------------------------------------------------\u001b[0m",
      "\u001b[1;31mNameError\u001b[0m                                 Traceback (most recent call last)",
      "\u001b[1;32m~\\AppData\\Local\\Temp/ipykernel_15920/644072954.py\u001b[0m in \u001b[0;36m<module>\u001b[1;34m\u001b[0m\n\u001b[1;32m----> 1\u001b[1;33m \u001b[0mdf\u001b[0m\u001b[1;33m=\u001b[0m\u001b[0mread_csv\u001b[0m\u001b[1;33m(\u001b[0m\u001b[1;34m'studymart.csv'\u001b[0m\u001b[1;33m)\u001b[0m\u001b[1;33m\u001b[0m\u001b[1;33m\u001b[0m\u001b[0m\n\u001b[0m",
      "\u001b[1;31mNameError\u001b[0m: name 'read_csv' is not defined"
     ]
    }
   ],
   "source": [
    "df=pd.read_csv('studymart.csv')"
   ]
  },
  {
   "cell_type": "code",
   "execution_count": 83,
   "id": "a567d869",
   "metadata": {},
   "outputs": [],
   "source": [
    "#binary types\n"
   ]
  },
  {
   "cell_type": "code",
   "execution_count": 84,
   "id": "9b3ebb9a",
   "metadata": {},
   "outputs": [],
   "source": [
    "byte_arr=bytearray('abc','utf-8')"
   ]
  },
  {
   "cell_type": "code",
   "execution_count": 1,
   "id": "4fd7c4b5",
   "metadata": {},
   "outputs": [],
   "source": [
    "n1=45678\n",
    "n2=n1"
   ]
  },
  {
   "cell_type": "code",
   "execution_count": 2,
   "id": "743d7447",
   "metadata": {},
   "outputs": [
    {
     "data": {
      "text/plain": [
       "True"
      ]
     },
     "execution_count": 2,
     "metadata": {},
     "output_type": "execute_result"
    }
   ],
   "source": [
    "n1==n2"
   ]
  },
  {
   "cell_type": "code",
   "execution_count": 3,
   "id": "0327dd54",
   "metadata": {},
   "outputs": [
    {
     "data": {
      "text/plain": [
       "True"
      ]
     },
     "execution_count": 3,
     "metadata": {},
     "output_type": "execute_result"
    }
   ],
   "source": [
    "n1 is n2"
   ]
  },
  {
   "cell_type": "code",
   "execution_count": 4,
   "id": "c7da05bf",
   "metadata": {},
   "outputs": [
    {
     "data": {
      "text/plain": [
       "2459919941136"
      ]
     },
     "execution_count": 4,
     "metadata": {},
     "output_type": "execute_result"
    }
   ],
   "source": [
    "id(n1)"
   ]
  },
  {
   "cell_type": "code",
   "execution_count": 5,
   "id": "82f42f42",
   "metadata": {},
   "outputs": [
    {
     "data": {
      "text/plain": [
       "2459919941136"
      ]
     },
     "execution_count": 5,
     "metadata": {},
     "output_type": "execute_result"
    }
   ],
   "source": [
    "id(n2)"
   ]
  },
  {
   "cell_type": "code",
   "execution_count": 14,
   "id": "8b18308c",
   "metadata": {},
   "outputs": [],
   "source": [
    "n1=456"
   ]
  },
  {
   "cell_type": "code",
   "execution_count": 15,
   "id": "5aaa3432",
   "metadata": {},
   "outputs": [],
   "source": [
    "n2=456"
   ]
  },
  {
   "cell_type": "code",
   "execution_count": 16,
   "id": "c8c2bfd9",
   "metadata": {},
   "outputs": [
    {
     "data": {
      "text/plain": [
       "True"
      ]
     },
     "execution_count": 16,
     "metadata": {},
     "output_type": "execute_result"
    }
   ],
   "source": [
    "n1==n2"
   ]
  },
  {
   "cell_type": "code",
   "execution_count": 17,
   "id": "39f7d41f",
   "metadata": {},
   "outputs": [
    {
     "data": {
      "text/plain": [
       "False"
      ]
     },
     "execution_count": 17,
     "metadata": {},
     "output_type": "execute_result"
    }
   ],
   "source": [
    "n1 is n2"
   ]
  },
  {
   "cell_type": "code",
   "execution_count": 18,
   "id": "5c748d0a",
   "metadata": {},
   "outputs": [],
   "source": [
    "x=15"
   ]
  },
  {
   "cell_type": "code",
   "execution_count": 19,
   "id": "6d66aa90",
   "metadata": {},
   "outputs": [],
   "source": [
    "y=4"
   ]
  },
  {
   "cell_type": "code",
   "execution_count": 20,
   "id": "319972b8",
   "metadata": {},
   "outputs": [
    {
     "data": {
      "text/plain": [
       "19"
      ]
     },
     "execution_count": 20,
     "metadata": {},
     "output_type": "execute_result"
    }
   ],
   "source": [
    "x+y"
   ]
  },
  {
   "cell_type": "code",
   "execution_count": 21,
   "id": "dbb55541",
   "metadata": {},
   "outputs": [
    {
     "data": {
      "text/plain": [
       "3.75"
      ]
     },
     "execution_count": 21,
     "metadata": {},
     "output_type": "execute_result"
    }
   ],
   "source": [
    "x/y"
   ]
  },
  {
   "cell_type": "code",
   "execution_count": 22,
   "id": "79afceae",
   "metadata": {},
   "outputs": [
    {
     "data": {
      "text/plain": [
       "60"
      ]
     },
     "execution_count": 22,
     "metadata": {},
     "output_type": "execute_result"
    }
   ],
   "source": [
    "x*y"
   ]
  },
  {
   "cell_type": "code",
   "execution_count": 23,
   "id": "6bb08ae2",
   "metadata": {},
   "outputs": [
    {
     "data": {
      "text/plain": [
       "50625"
      ]
     },
     "execution_count": 23,
     "metadata": {},
     "output_type": "execute_result"
    }
   ],
   "source": [
    "x**y"
   ]
  },
  {
   "cell_type": "code",
   "execution_count": 24,
   "id": "2000eb5c",
   "metadata": {},
   "outputs": [
    {
     "data": {
      "text/plain": [
       "3"
      ]
     },
     "execution_count": 24,
     "metadata": {},
     "output_type": "execute_result"
    }
   ],
   "source": [
    "x//y"
   ]
  },
  {
   "cell_type": "code",
   "execution_count": 28,
   "id": "fd19b242",
   "metadata": {},
   "outputs": [
    {
     "data": {
      "text/plain": [
       "4"
      ]
     },
     "execution_count": 28,
     "metadata": {},
     "output_type": "execute_result"
    }
   ],
   "source": [
    "import math\n",
    "math.ceil(x/y)"
   ]
  },
  {
   "cell_type": "code",
   "execution_count": 29,
   "id": "acacf9c2",
   "metadata": {},
   "outputs": [
    {
     "data": {
      "text/plain": [
       "True"
      ]
     },
     "execution_count": 29,
     "metadata": {},
     "output_type": "execute_result"
    }
   ],
   "source": [
    "list1=[1,2,3,4,5,6,7]\n",
    "\n",
    "1 in list1"
   ]
  },
  {
   "cell_type": "code",
   "execution_count": 30,
   "id": "f183c8e9",
   "metadata": {},
   "outputs": [
    {
     "data": {
      "text/plain": [
       "False"
      ]
     },
     "execution_count": 30,
     "metadata": {},
     "output_type": "execute_result"
    }
   ],
   "source": [
    "10 in list1"
   ]
  },
  {
   "cell_type": "code",
   "execution_count": 31,
   "id": "b7821c16",
   "metadata": {},
   "outputs": [
    {
     "data": {
      "text/plain": [
       "True"
      ]
     },
     "execution_count": 31,
     "metadata": {},
     "output_type": "execute_result"
    }
   ],
   "source": [
    "10 not in list1"
   ]
  },
  {
   "cell_type": "code",
   "execution_count": 5,
   "id": "af78e076",
   "metadata": {},
   "outputs": [],
   "source": [
    "x=500\n",
    "y=100"
   ]
  },
  {
   "cell_type": "code",
   "execution_count": 7,
   "id": "8b883761",
   "metadata": {},
   "outputs": [
    {
     "name": "stdout",
     "output_type": "stream",
     "text": [
      "x is greater than y\n"
     ]
    }
   ],
   "source": [
    "if y>x:\n",
    "    print(\"y is greater than x\")\n",
    "elif x==y:\n",
    "    print('x and y are equal')\n",
    "else:\n",
    "    print(\"x is greater than y\")"
   ]
  },
  {
   "cell_type": "code",
   "execution_count": 1,
   "id": "9d01cc90",
   "metadata": {},
   "outputs": [
    {
     "name": "stdout",
     "output_type": "stream",
     "text": [
      "Enter the length: 50\n",
      "Enter the breadth: 20\n",
      "length= 50\n",
      "breadth=  20\n"
     ]
    }
   ],
   "source": [
    "length=int(input('Enter the length: '))\n",
    "breadth = int(input('Enter the breadth: '))\n",
    "\n",
    "\n",
    "print('length=',length)\n",
    "print('breadth= ',breadth)"
   ]
  },
  {
   "cell_type": "code",
   "execution_count": 2,
   "id": "7f72e2fa",
   "metadata": {},
   "outputs": [
    {
     "name": "stdout",
     "output_type": "stream",
     "text": [
      "it is not a square\n"
     ]
    }
   ],
   "source": [
    "if length == breadth:\n",
    "    print('it is a square')\n",
    "else:\n",
    "    print('it is not a square')"
   ]
  },
  {
   "cell_type": "code",
   "execution_count": 3,
   "id": "7105fd73",
   "metadata": {},
   "outputs": [
    {
     "name": "stdout",
     "output_type": "stream",
     "text": [
      "Enter a number: 2\n",
      "Enter a number: 3\n",
      "Enter a number: 4\n"
     ]
    }
   ],
   "source": [
    "a=int(input('Enter a number: '))\n",
    "b=int(input('Enter a number: '))\n",
    "c=int(input('Enter a number: '))\n",
    "\n"
   ]
  },
  {
   "cell_type": "code",
   "execution_count": 5,
   "id": "df4f79bc",
   "metadata": {},
   "outputs": [
    {
     "name": "stdout",
     "output_type": "stream",
     "text": [
      "the greatest number:  4\n"
     ]
    }
   ],
   "source": [
    "if a>b:\n",
    "    if a>c:\n",
    "        print('the greatest number: ',a)\n",
    "    else:\n",
    "        print('the greatest number: ',c)\n",
    "elif b>c:\n",
    "    if b>a:\n",
    "        print('the greatest number: ',b)\n",
    "    else:\n",
    "        print('the greatest number: ',a)\n",
    "else:\n",
    "    if c>b:\n",
    "        print('the greatest number: ',c)\n",
    "    else:\n",
    "        print('the greatest number: ',b)\n",
    "        \n",
    "        "
   ]
  },
  {
   "cell_type": "code",
   "execution_count": 9,
   "id": "2f74e125",
   "metadata": {},
   "outputs": [
    {
     "name": "stdout",
     "output_type": "stream",
     "text": [
      "Enter your marks: -2\n",
      "You cannot sit for the exam\n"
     ]
    }
   ],
   "source": [
    "marks=int(input('Enter your marks: '))\n",
    "if marks<70:\n",
    "    print('You cannot sit for the exam')\n",
    "elif marks>70 and marks<100:\n",
    "    print('You can sit for the exam')\n",
    "else:\n",
    "    print('invalid input')"
   ]
  },
  {
   "cell_type": "code",
   "execution_count": 1,
   "id": "6dc6301f",
   "metadata": {},
   "outputs": [
    {
     "name": "stdout",
     "output_type": "stream",
     "text": [
      "Enter your marks: 55\n"
     ]
    }
   ],
   "source": [
    "mark=int(input('Enter your marks: '))\n",
    "\n"
   ]
  },
  {
   "cell_type": "code",
   "execution_count": 2,
   "id": "67e1f983",
   "metadata": {},
   "outputs": [
    {
     "name": "stdout",
     "output_type": "stream",
     "text": [
      "ai\n",
      "me\n",
      "ce\n",
      "cse\n"
     ]
    }
   ],
   "source": [
    "subjects=['ai','me','ce','cse']\n",
    "for x in subjects:\n",
    "    print(x)"
   ]
  },
  {
   "cell_type": "code",
   "execution_count": 3,
   "id": "85ae06b5",
   "metadata": {},
   "outputs": [],
   "source": [
    "data='python'\n"
   ]
  },
  {
   "cell_type": "code",
   "execution_count": 4,
   "id": "36319d43",
   "metadata": {},
   "outputs": [
    {
     "data": {
      "text/plain": [
       "'p'"
      ]
     },
     "execution_count": 4,
     "metadata": {},
     "output_type": "execute_result"
    }
   ],
   "source": [
    "data[0]"
   ]
  },
  {
   "cell_type": "code",
   "execution_count": 5,
   "id": "6111ecef",
   "metadata": {},
   "outputs": [
    {
     "data": {
      "text/plain": [
       "'n'"
      ]
     },
     "execution_count": 5,
     "metadata": {},
     "output_type": "execute_result"
    }
   ],
   "source": [
    "data[-1]"
   ]
  },
  {
   "cell_type": "code",
   "execution_count": 7,
   "id": "aa29852a",
   "metadata": {},
   "outputs": [
    {
     "name": "stdout",
     "output_type": "stream",
     "text": [
      "p i\n",
      "y i\n",
      "t i\n",
      "h i\n",
      "o i\n",
      "n i\n"
     ]
    }
   ],
   "source": [
    "for i in data:\n",
    "    print(i,'i')"
   ]
  },
  {
   "cell_type": "code",
   "execution_count": 9,
   "id": "ee82c4c6",
   "metadata": {},
   "outputs": [
    {
     "name": "stdout",
     "output_type": "stream",
     "text": [
      "p\n",
      "y\n",
      "t\n",
      "h\n",
      "o\n",
      "n\n"
     ]
    }
   ],
   "source": [
    "for i in range(len(data)):\n",
    "    print(data[i])"
   ]
  },
  {
   "cell_type": "code",
   "execution_count": 10,
   "id": "4bc84ffc",
   "metadata": {},
   "outputs": [],
   "source": [
    "data='i love mechanical engineering in my dreams'"
   ]
  },
  {
   "cell_type": "code",
   "execution_count": 11,
   "id": "21d1f83f",
   "metadata": {},
   "outputs": [
    {
     "name": "stdout",
     "output_type": "stream",
     "text": [
      "i\n",
      " \n",
      "l\n",
      "o\n",
      "v\n",
      "e\n",
      " \n",
      "m\n",
      "e\n",
      "c\n",
      "h\n",
      "a\n",
      "n\n",
      "i\n",
      "c\n",
      "a\n",
      "l\n",
      " \n",
      "e\n",
      "n\n",
      "g\n",
      "i\n",
      "n\n",
      "e\n",
      "e\n",
      "r\n",
      "i\n",
      "n\n",
      "g\n",
      " \n",
      "i\n",
      "n\n",
      " \n",
      "m\n",
      "y\n",
      " \n",
      "d\n",
      "r\n",
      "e\n",
      "a\n",
      "m\n",
      "s\n"
     ]
    }
   ],
   "source": [
    "for i in range(len(data)):\n",
    "    print(data[i])"
   ]
  },
  {
   "cell_type": "code",
   "execution_count": 12,
   "id": "62b5bec0",
   "metadata": {},
   "outputs": [
    {
     "name": "stdout",
     "output_type": "stream",
     "text": [
      "i\n",
      "love\n",
      "mechanical\n",
      "engineering\n",
      "in\n",
      "my\n",
      "dreams\n"
     ]
    }
   ],
   "source": [
    "data = data.split()\n",
    "for i in range(len(data)):\n",
    "    print(data[i])"
   ]
  },
  {
   "cell_type": "code",
   "execution_count": 15,
   "id": "1715e97a",
   "metadata": {},
   "outputs": [
    {
     "name": "stdout",
     "output_type": "stream",
     "text": [
      "28\n"
     ]
    }
   ],
   "source": [
    "n=[1,2,3,4,5,6,7]\n",
    "\n",
    "sum=0\n",
    "\n",
    "for i in n:\n",
    "    sum=sum+i\n",
    "print(sum)"
   ]
  },
  {
   "cell_type": "code",
   "execution_count": 16,
   "id": "ee65e633",
   "metadata": {},
   "outputs": [
    {
     "name": "stdout",
     "output_type": "stream",
     "text": [
      "data science\n",
      "data science\n",
      "data science\n",
      "data science\n",
      "data science\n",
      "data science\n",
      "data science\n",
      "data science\n",
      "data science\n",
      "data science\n"
     ]
    }
   ],
   "source": [
    "for i in range(10):\n",
    "    print('data science')"
   ]
  },
  {
   "cell_type": "code",
   "execution_count": 17,
   "id": "96f7137d",
   "metadata": {},
   "outputs": [
    {
     "name": "stdout",
     "output_type": "stream",
     "text": [
      "-100\n",
      "-99\n",
      "-98\n",
      "-97\n",
      "-96\n",
      "-95\n",
      "-94\n",
      "-93\n",
      "-92\n",
      "-91\n",
      "-90\n",
      "-89\n",
      "-88\n",
      "-87\n",
      "-86\n",
      "-85\n",
      "-84\n",
      "-83\n",
      "-82\n",
      "-81\n",
      "-80\n",
      "-79\n",
      "-78\n",
      "-77\n",
      "-76\n",
      "-75\n",
      "-74\n",
      "-73\n",
      "-72\n",
      "-71\n",
      "-70\n",
      "-69\n",
      "-68\n",
      "-67\n",
      "-66\n",
      "-65\n",
      "-64\n",
      "-63\n",
      "-62\n",
      "-61\n",
      "-60\n",
      "-59\n",
      "-58\n",
      "-57\n",
      "-56\n",
      "-55\n",
      "-54\n",
      "-53\n",
      "-52\n",
      "-51\n",
      "-50\n",
      "-49\n",
      "-48\n",
      "-47\n",
      "-46\n",
      "-45\n",
      "-44\n",
      "-43\n",
      "-42\n",
      "-41\n",
      "-40\n",
      "-39\n",
      "-38\n",
      "-37\n",
      "-36\n",
      "-35\n",
      "-34\n",
      "-33\n",
      "-32\n",
      "-31\n",
      "-30\n",
      "-29\n",
      "-28\n",
      "-27\n",
      "-26\n",
      "-25\n",
      "-24\n",
      "-23\n",
      "-22\n",
      "-21\n",
      "-20\n",
      "-19\n",
      "-18\n",
      "-17\n",
      "-16\n",
      "-15\n",
      "-14\n",
      "-13\n",
      "-12\n",
      "-11\n"
     ]
    }
   ],
   "source": [
    "for i in range(-100,-10):\n",
    "    print(i)"
   ]
  },
  {
   "cell_type": "code",
   "execution_count": null,
   "id": "39958ffe",
   "metadata": {},
   "outputs": [],
   "source": [
    "for i in range(10,1000):\n",
    "    if i"
   ]
  },
  {
   "cell_type": "code",
   "execution_count": 18,
   "id": "9507f6b4",
   "metadata": {},
   "outputs": [
    {
     "name": "stdout",
     "output_type": "stream",
     "text": [
      "Enter a number: 5\n",
      "4\n"
     ]
    }
   ],
   "source": [
    "for i in range(int(input('Enter a number: '))):\n",
    "    n=1\n",
    "    n=n*i\n",
    "    \n",
    "print(n)"
   ]
  },
  {
   "cell_type": "code",
   "execution_count": null,
   "id": "5a7a7134",
   "metadata": {},
   "outputs": [],
   "source": [
    "i=0\n",
    "while (i<=10):\n",
    "    i +=1\n",
    "    print('Study mart')"
   ]
  },
  {
   "cell_type": "code",
   "execution_count": null,
   "id": "32485006",
   "metadata": {},
   "outputs": [],
   "source": [
    "data = 'python'\n",
    "data[0]"
   ]
  },
  {
   "cell_type": "code",
   "execution_count": null,
   "id": "3ce51a3b",
   "metadata": {},
   "outputs": [],
   "source": [
    "index=0\n",
    "while index<len(data):\n",
    "    print(data[index])\n",
    "    index +=1\n",
    "    "
   ]
  },
  {
   "cell_type": "code",
   "execution_count": 3,
   "id": "32890461",
   "metadata": {},
   "outputs": [
    {
     "name": "stdout",
     "output_type": "stream",
     "text": [
      "i\n",
      "love\n",
      "studying\n",
      "in\n",
      "mechanical\n"
     ]
    }
   ],
   "source": [
    "data='i love studying in mechanical'\n",
    "data=data.split()\n",
    "i=0\n",
    "while i<len(data):\n",
    "    print(data[i])\n",
    "    i=i+1"
   ]
  },
  {
   "cell_type": "code",
   "execution_count": 6,
   "id": "41af3dd3",
   "metadata": {},
   "outputs": [
    {
     "name": "stdout",
     "output_type": "stream",
     "text": [
      " \n",
      "#  \n",
      "# #  \n",
      "# # #  \n"
     ]
    }
   ],
   "source": [
    "rows=4\n",
    "\n",
    "for i in range(rows):\n",
    "    for j in range(i):\n",
    "        print('#', end=' ')\n",
    "    print(' ')"
   ]
  },
  {
   "cell_type": "code",
   "execution_count": 9,
   "id": "374624a3",
   "metadata": {},
   "outputs": [],
   "source": [
    "list1=['me','cse','eee','bme','name',(1,2,3),{2,3,4}]"
   ]
  },
  {
   "cell_type": "code",
   "execution_count": 10,
   "id": "3e1f9868",
   "metadata": {},
   "outputs": [
    {
     "data": {
      "text/plain": [
       "['me', 'cse', 'eee', 'bme', 'name', (1, 2, 3), {2, 3, 4}]"
      ]
     },
     "execution_count": 10,
     "metadata": {},
     "output_type": "execute_result"
    }
   ],
   "source": [
    "list1"
   ]
  },
  {
   "cell_type": "code",
   "execution_count": 11,
   "id": "c988032d",
   "metadata": {},
   "outputs": [],
   "source": [
    "l1=[2,5,8,10]"
   ]
  },
  {
   "cell_type": "code",
   "execution_count": 12,
   "id": "8b25e816",
   "metadata": {},
   "outputs": [
    {
     "data": {
      "text/plain": [
       "list"
      ]
     },
     "execution_count": 12,
     "metadata": {},
     "output_type": "execute_result"
    }
   ],
   "source": [
    "type(l1)"
   ]
  },
  {
   "cell_type": "code",
   "execution_count": 13,
   "id": "d8fecd3d",
   "metadata": {},
   "outputs": [
    {
     "data": {
      "text/plain": [
       "2"
      ]
     },
     "execution_count": 13,
     "metadata": {},
     "output_type": "execute_result"
    }
   ],
   "source": [
    "l1[0]"
   ]
  },
  {
   "cell_type": "code",
   "execution_count": 14,
   "id": "95b9e3f6",
   "metadata": {},
   "outputs": [
    {
     "data": {
      "text/plain": [
       "10"
      ]
     },
     "execution_count": 14,
     "metadata": {},
     "output_type": "execute_result"
    }
   ],
   "source": [
    "l1[-1]"
   ]
  },
  {
   "cell_type": "code",
   "execution_count": 15,
   "id": "0d5fd42d",
   "metadata": {},
   "outputs": [
    {
     "data": {
      "text/plain": [
       "[2, 5]"
      ]
     },
     "execution_count": 15,
     "metadata": {},
     "output_type": "execute_result"
    }
   ],
   "source": [
    "l1[0:2]"
   ]
  },
  {
   "cell_type": "code",
   "execution_count": 16,
   "id": "5a12cee2",
   "metadata": {},
   "outputs": [],
   "source": [
    "l1[0]='ai quest'"
   ]
  },
  {
   "cell_type": "code",
   "execution_count": 17,
   "id": "b577df75",
   "metadata": {},
   "outputs": [
    {
     "data": {
      "text/plain": [
       "['ai quest', 5, 8, 10]"
      ]
     },
     "execution_count": 17,
     "metadata": {},
     "output_type": "execute_result"
    }
   ],
   "source": [
    "l1"
   ]
  },
  {
   "cell_type": "code",
   "execution_count": 18,
   "id": "05ff3a09",
   "metadata": {},
   "outputs": [],
   "source": [
    "l1.append('study mart')"
   ]
  },
  {
   "cell_type": "code",
   "execution_count": 19,
   "id": "f949f717",
   "metadata": {},
   "outputs": [
    {
     "data": {
      "text/plain": [
       "['ai quest', 5, 8, 10, 'study mart']"
      ]
     },
     "execution_count": 19,
     "metadata": {},
     "output_type": "execute_result"
    }
   ],
   "source": [
    "l1"
   ]
  },
  {
   "cell_type": "code",
   "execution_count": 20,
   "id": "044981a9",
   "metadata": {},
   "outputs": [],
   "source": [
    "l1.append(5)"
   ]
  },
  {
   "cell_type": "code",
   "execution_count": 21,
   "id": "34557f68",
   "metadata": {},
   "outputs": [
    {
     "data": {
      "text/plain": [
       "['ai quest', 5, 8, 10, 'study mart', 5]"
      ]
     },
     "execution_count": 21,
     "metadata": {},
     "output_type": "execute_result"
    }
   ],
   "source": [
    "l1"
   ]
  },
  {
   "cell_type": "code",
   "execution_count": 22,
   "id": "a6a3ee23",
   "metadata": {},
   "outputs": [
    {
     "data": {
      "text/plain": [
       "5"
      ]
     },
     "execution_count": 22,
     "metadata": {},
     "output_type": "execute_result"
    }
   ],
   "source": [
    "l1.pop()"
   ]
  },
  {
   "cell_type": "code",
   "execution_count": 23,
   "id": "4f685423",
   "metadata": {},
   "outputs": [
    {
     "data": {
      "text/plain": [
       "8"
      ]
     },
     "execution_count": 23,
     "metadata": {},
     "output_type": "execute_result"
    }
   ],
   "source": [
    "l1.pop(2)"
   ]
  },
  {
   "cell_type": "code",
   "execution_count": 24,
   "id": "305a20cc",
   "metadata": {},
   "outputs": [
    {
     "data": {
      "text/plain": [
       "['ai quest', 5, 10, 'study mart']"
      ]
     },
     "execution_count": 24,
     "metadata": {},
     "output_type": "execute_result"
    }
   ],
   "source": [
    "l1"
   ]
  },
  {
   "cell_type": "code",
   "execution_count": 26,
   "id": "1e355b60",
   "metadata": {},
   "outputs": [],
   "source": [
    " l2=list['ai',2,3,4,5]"
   ]
  },
  {
   "cell_type": "markdown",
   "id": "96dc04fa",
   "metadata": {},
   "source": []
  },
  {
   "cell_type": "code",
   "execution_count": 28,
   "id": "738c3ed3",
   "metadata": {},
   "outputs": [
    {
     "name": "stdout",
     "output_type": "stream",
     "text": [
      "Enter a number: 5\n",
      "1\n",
      "2\n",
      "3\n",
      "5\n",
      "4\n",
      "['1', '2', '3', '5', '4']\n"
     ]
    }
   ],
   "source": [
    "l3=[]\n",
    "n=int(input('Enter a number: '))\n",
    "\n",
    "for i in range(n):\n",
    "    new=input()\n",
    "    l3.append(new)\n",
    "print(l3)"
   ]
  },
  {
   "cell_type": "code",
   "execution_count": 29,
   "id": "5b593201",
   "metadata": {},
   "outputs": [],
   "source": [
    "#list methods\n",
    "\n",
    "l1=['ai','ds','cs',150,120,True,(1,2,3),[2,3,4]]"
   ]
  },
  {
   "cell_type": "code",
   "execution_count": 30,
   "id": "94ec535f",
   "metadata": {},
   "outputs": [],
   "source": [
    "l2=l1"
   ]
  },
  {
   "cell_type": "code",
   "execution_count": 31,
   "id": "3c3ff5ad",
   "metadata": {},
   "outputs": [
    {
     "data": {
      "text/plain": [
       "['ai', 'ds', 'cs', 150, 120, True, (1, 2, 3), [2, 3, 4]]"
      ]
     },
     "execution_count": 31,
     "metadata": {},
     "output_type": "execute_result"
    }
   ],
   "source": [
    "l2"
   ]
  },
  {
   "cell_type": "code",
   "execution_count": 32,
   "id": "9232ed5e",
   "metadata": {},
   "outputs": [],
   "source": [
    "l3=l1.copy()"
   ]
  },
  {
   "cell_type": "code",
   "execution_count": 33,
   "id": "3a068d07",
   "metadata": {},
   "outputs": [
    {
     "data": {
      "text/plain": [
       "['ai', 'ds', 'cs', 150, 120, True, (1, 2, 3), [2, 3, 4]]"
      ]
     },
     "execution_count": 33,
     "metadata": {},
     "output_type": "execute_result"
    }
   ],
   "source": [
    "l3"
   ]
  },
  {
   "cell_type": "code",
   "execution_count": 34,
   "id": "9719ff1c",
   "metadata": {},
   "outputs": [],
   "source": [
    "l1[0]='1000'"
   ]
  },
  {
   "cell_type": "code",
   "execution_count": 35,
   "id": "c2ff0ee6",
   "metadata": {},
   "outputs": [
    {
     "data": {
      "text/plain": [
       "['1000', 'ds', 'cs', 150, 120, True, (1, 2, 3), [2, 3, 4]]"
      ]
     },
     "execution_count": 35,
     "metadata": {},
     "output_type": "execute_result"
    }
   ],
   "source": [
    "l1"
   ]
  },
  {
   "cell_type": "code",
   "execution_count": 36,
   "id": "254bd6cd",
   "metadata": {},
   "outputs": [
    {
     "data": {
      "text/plain": [
       "['1000', 'ds', 'cs', 150, 120, True, (1, 2, 3), [2, 3, 4]]"
      ]
     },
     "execution_count": 36,
     "metadata": {},
     "output_type": "execute_result"
    }
   ],
   "source": [
    "l2"
   ]
  },
  {
   "cell_type": "code",
   "execution_count": 37,
   "id": "f45e0f52",
   "metadata": {},
   "outputs": [
    {
     "data": {
      "text/plain": [
       "['ai', 'ds', 'cs', 150, 120, True, (1, 2, 3), [2, 3, 4]]"
      ]
     },
     "execution_count": 37,
     "metadata": {},
     "output_type": "execute_result"
    }
   ],
   "source": [
    "l3"
   ]
  },
  {
   "cell_type": "code",
   "execution_count": 38,
   "id": "3c9f83df",
   "metadata": {},
   "outputs": [],
   "source": [
    "l1.append(28)"
   ]
  },
  {
   "cell_type": "code",
   "execution_count": 39,
   "id": "2e3a87cf",
   "metadata": {},
   "outputs": [
    {
     "data": {
      "text/plain": [
       "['1000', 'ds', 'cs', 150, 120, True, (1, 2, 3), [2, 3, 4], 28]"
      ]
     },
     "execution_count": 39,
     "metadata": {},
     "output_type": "execute_result"
    }
   ],
   "source": [
    "l1"
   ]
  },
  {
   "cell_type": "code",
   "execution_count": 40,
   "id": "cc36b70c",
   "metadata": {},
   "outputs": [],
   "source": [
    "l2=[1,2,3]"
   ]
  },
  {
   "cell_type": "code",
   "execution_count": 41,
   "id": "1c5a3e41",
   "metadata": {},
   "outputs": [],
   "source": [
    "l1.append(l2)"
   ]
  },
  {
   "cell_type": "code",
   "execution_count": 42,
   "id": "012503fe",
   "metadata": {},
   "outputs": [
    {
     "data": {
      "text/plain": [
       "['1000', 'ds', 'cs', 150, 120, True, (1, 2, 3), [2, 3, 4], 28, [1, 2, 3]]"
      ]
     },
     "execution_count": 42,
     "metadata": {},
     "output_type": "execute_result"
    }
   ],
   "source": [
    "l1"
   ]
  },
  {
   "cell_type": "code",
   "execution_count": 43,
   "id": "eb0219f4",
   "metadata": {},
   "outputs": [],
   "source": [
    "l1.extend(l2)"
   ]
  },
  {
   "cell_type": "code",
   "execution_count": 44,
   "id": "84f535db",
   "metadata": {},
   "outputs": [
    {
     "data": {
      "text/plain": [
       "['1000',\n",
       " 'ds',\n",
       " 'cs',\n",
       " 150,\n",
       " 120,\n",
       " True,\n",
       " (1, 2, 3),\n",
       " [2, 3, 4],\n",
       " 28,\n",
       " [1, 2, 3],\n",
       " 1,\n",
       " 2,\n",
       " 3]"
      ]
     },
     "execution_count": 44,
     "metadata": {},
     "output_type": "execute_result"
    }
   ],
   "source": [
    "l1"
   ]
  },
  {
   "cell_type": "code",
   "execution_count": 45,
   "id": "59927ad5",
   "metadata": {},
   "outputs": [],
   "source": [
    "l1.insert(0,'BUET')"
   ]
  },
  {
   "cell_type": "code",
   "execution_count": 46,
   "id": "6d58f088",
   "metadata": {},
   "outputs": [
    {
     "data": {
      "text/plain": [
       "['BUET',\n",
       " '1000',\n",
       " 'ds',\n",
       " 'cs',\n",
       " 150,\n",
       " 120,\n",
       " True,\n",
       " (1, 2, 3),\n",
       " [2, 3, 4],\n",
       " 28,\n",
       " [1, 2, 3],\n",
       " 1,\n",
       " 2,\n",
       " 3]"
      ]
     },
     "execution_count": 46,
     "metadata": {},
     "output_type": "execute_result"
    }
   ],
   "source": [
    "l1"
   ]
  },
  {
   "cell_type": "code",
   "execution_count": 48,
   "id": "a82ff019",
   "metadata": {},
   "outputs": [
    {
     "data": {
      "text/plain": [
       "5"
      ]
     },
     "execution_count": 48,
     "metadata": {},
     "output_type": "execute_result"
    }
   ],
   "source": [
    "l1.index(120)"
   ]
  },
  {
   "cell_type": "code",
   "execution_count": 49,
   "id": "cfda0768",
   "metadata": {},
   "outputs": [
    {
     "data": {
      "text/plain": [
       "2"
      ]
     },
     "execution_count": 49,
     "metadata": {},
     "output_type": "execute_result"
    }
   ],
   "source": [
    "l1.count(1)"
   ]
  },
  {
   "cell_type": "code",
   "execution_count": 50,
   "id": "0e58ff65",
   "metadata": {},
   "outputs": [],
   "source": [
    "l1.reverse()"
   ]
  },
  {
   "cell_type": "code",
   "execution_count": 51,
   "id": "c915ec5b",
   "metadata": {},
   "outputs": [
    {
     "data": {
      "text/plain": [
       "[3,\n",
       " 2,\n",
       " 1,\n",
       " [1, 2, 3],\n",
       " 28,\n",
       " [2, 3, 4],\n",
       " (1, 2, 3),\n",
       " True,\n",
       " 120,\n",
       " 150,\n",
       " 'cs',\n",
       " 'ds',\n",
       " '1000',\n",
       " 'BUET']"
      ]
     },
     "execution_count": 51,
     "metadata": {},
     "output_type": "execute_result"
    }
   ],
   "source": [
    "l1"
   ]
  },
  {
   "cell_type": "code",
   "execution_count": 52,
   "id": "e52f6dd4",
   "metadata": {},
   "outputs": [],
   "source": [
    "l1.remove(1)"
   ]
  },
  {
   "cell_type": "code",
   "execution_count": null,
   "id": "17958f45",
   "metadata": {},
   "outputs": [],
   "source": []
  },
  {
   "cell_type": "code",
   "execution_count": 53,
   "id": "18ead0e9",
   "metadata": {},
   "outputs": [
    {
     "data": {
      "text/plain": [
       "[3,\n",
       " 2,\n",
       " [1, 2, 3],\n",
       " 28,\n",
       " [2, 3, 4],\n",
       " (1, 2, 3),\n",
       " True,\n",
       " 120,\n",
       " 150,\n",
       " 'cs',\n",
       " 'ds',\n",
       " '1000',\n",
       " 'BUET']"
      ]
     },
     "execution_count": 53,
     "metadata": {},
     "output_type": "execute_result"
    }
   ],
   "source": [
    "l1"
   ]
  },
  {
   "cell_type": "code",
   "execution_count": 54,
   "id": "69b281c4",
   "metadata": {},
   "outputs": [],
   "source": [
    "l1.remove(1)"
   ]
  },
  {
   "cell_type": "code",
   "execution_count": 55,
   "id": "a4a46cdf",
   "metadata": {},
   "outputs": [
    {
     "data": {
      "text/plain": [
       "[3,\n",
       " 2,\n",
       " [1, 2, 3],\n",
       " 28,\n",
       " [2, 3, 4],\n",
       " (1, 2, 3),\n",
       " 120,\n",
       " 150,\n",
       " 'cs',\n",
       " 'ds',\n",
       " '1000',\n",
       " 'BUET']"
      ]
     },
     "execution_count": 55,
     "metadata": {},
     "output_type": "execute_result"
    }
   ],
   "source": [
    "l1"
   ]
  },
  {
   "cell_type": "code",
   "execution_count": 57,
   "id": "01af2045",
   "metadata": {},
   "outputs": [
    {
     "data": {
      "text/plain": [
       "list"
      ]
     },
     "execution_count": 57,
     "metadata": {},
     "output_type": "execute_result"
    }
   ],
   "source": [
    "type(l1)"
   ]
  },
  {
   "cell_type": "code",
   "execution_count": 58,
   "id": "f97bdea5",
   "metadata": {},
   "outputs": [
    {
     "data": {
      "text/plain": [
       "[0, 1, 2, 3, 4, 5, 6, 7, 8, 9]"
      ]
     },
     "execution_count": 58,
     "metadata": {},
     "output_type": "execute_result"
    }
   ],
   "source": [
    "l1=[]\n",
    "\n",
    "for i in range(10):\n",
    "    l1.append(i)\n",
    "    \n",
    "l1"
   ]
  },
  {
   "cell_type": "code",
   "execution_count": 59,
   "id": "152fbaad",
   "metadata": {},
   "outputs": [],
   "source": [
    "l2 = [ x for x in range(10)]"
   ]
  },
  {
   "cell_type": "code",
   "execution_count": 60,
   "id": "3f973a1d",
   "metadata": {},
   "outputs": [
    {
     "data": {
      "text/plain": [
       "[0, 1, 2, 3, 4, 5, 6, 7, 8, 9]"
      ]
     },
     "execution_count": 60,
     "metadata": {},
     "output_type": "execute_result"
    }
   ],
   "source": [
    "l2"
   ]
  },
  {
   "cell_type": "code",
   "execution_count": 63,
   "id": "db8172c4",
   "metadata": {},
   "outputs": [
    {
     "data": {
      "text/plain": [
       "[0, 2, 4, 6, 8]"
      ]
     },
     "execution_count": 63,
     "metadata": {},
     "output_type": "execute_result"
    }
   ],
   "source": [
    "l3=[]\n",
    "\n",
    "for i in range(10):\n",
    "    if i%2==0:\n",
    "        l3.append(i)\n",
    "        \n",
    "l3"
   ]
  },
  {
   "cell_type": "code",
   "execution_count": 66,
   "id": "1913a1de",
   "metadata": {},
   "outputs": [],
   "source": [
    "l4=[ x for x in range(10) if x%2==1]"
   ]
  },
  {
   "cell_type": "code",
   "execution_count": 67,
   "id": "22762f95",
   "metadata": {},
   "outputs": [
    {
     "data": {
      "text/plain": [
       "[1, 3, 5, 7, 9]"
      ]
     },
     "execution_count": 67,
     "metadata": {},
     "output_type": "execute_result"
    }
   ],
   "source": [
    "l4"
   ]
  },
  {
   "cell_type": "markdown",
   "id": "56dd716f",
   "metadata": {},
   "source": []
  },
  {
   "cell_type": "code",
   "execution_count": 68,
   "id": "f8bb58e1",
   "metadata": {},
   "outputs": [],
   "source": [
    "l5=['ai','me','cse']"
   ]
  },
  {
   "cell_type": "code",
   "execution_count": 1,
   "id": "695469a2",
   "metadata": {},
   "outputs": [
    {
     "data": {
      "text/plain": [
       "tuple"
      ]
     },
     "execution_count": 1,
     "metadata": {},
     "output_type": "execute_result"
    }
   ],
   "source": [
    "t1=()\n",
    "type(t1)"
   ]
  },
  {
   "cell_type": "code",
   "execution_count": 2,
   "id": "b382b161",
   "metadata": {},
   "outputs": [],
   "source": [
    "t1=('ds','rony mia','nstu',1,2,3,4,[20,30,40],True)"
   ]
  },
  {
   "cell_type": "code",
   "execution_count": 4,
   "id": "f458652b",
   "metadata": {},
   "outputs": [
    {
     "data": {
      "text/plain": [
       "'rony mia'"
      ]
     },
     "execution_count": 4,
     "metadata": {},
     "output_type": "execute_result"
    }
   ],
   "source": [
    "t1[1]"
   ]
  },
  {
   "cell_type": "code",
   "execution_count": 5,
   "id": "46f14ab4",
   "metadata": {},
   "outputs": [
    {
     "data": {
      "text/plain": [
       "True"
      ]
     },
     "execution_count": 5,
     "metadata": {},
     "output_type": "execute_result"
    }
   ],
   "source": [
    "t1[-1]"
   ]
  },
  {
   "cell_type": "code",
   "execution_count": 6,
   "id": "6a607701",
   "metadata": {},
   "outputs": [
    {
     "data": {
      "text/plain": [
       "('nstu', 1, 2, 3)"
      ]
     },
     "execution_count": 6,
     "metadata": {},
     "output_type": "execute_result"
    }
   ],
   "source": [
    "t1[2:6]"
   ]
  },
  {
   "cell_type": "code",
   "execution_count": 7,
   "id": "1413568d",
   "metadata": {},
   "outputs": [],
   "source": [
    "t2=['rony']"
   ]
  },
  {
   "cell_type": "code",
   "execution_count": null,
   "id": "a5feba2e",
   "metadata": {},
   "outputs": [],
   "source": []
  }
 ],
 "metadata": {
  "kernelspec": {
   "display_name": "Python 3 (ipykernel)",
   "language": "python",
   "name": "python3"
  },
  "language_info": {
   "codemirror_mode": {
    "name": "ipython",
    "version": 3
   },
   "file_extension": ".py",
   "mimetype": "text/x-python",
   "name": "python",
   "nbconvert_exporter": "python",
   "pygments_lexer": "ipython3",
   "version": "3.9.7"
  }
 },
 "nbformat": 4,
 "nbformat_minor": 5
}
